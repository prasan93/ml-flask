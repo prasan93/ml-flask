{
 "cells": [
  {
   "cell_type": "code",
   "execution_count": 9,
   "id": "f791e02f-efab-4c0a-8b9f-3296bf3bd7bf",
   "metadata": {},
   "outputs": [
    {
     "name": "stdout",
     "output_type": "stream",
     "text": [
      "{'result': 'software', 'category_scores': {'carsharing': 31.328619, 'medical': 23.695555, 'education': 32.893784, 'agriculture': 25.077932, 'software': 52.776863}}\n"
     ]
    }
   ],
   "source": [
    "import numpy as np\n",
    "import tensorflow.compat.v1 as tf\n",
    "import tensorflow_hub as hub\n",
    "\n",
    "# Using V1 API for better use with Elmo\n",
    "tf.disable_v2_behavior()\n",
    "\n",
    "# embedding = hub.load(model_path)\n",
    "model_path = \"ml_models/archive\"\n",
    "embedding  = hub.KerasLayer(model_path, input_shape=[], dtype=tf.string)\n",
    "\n",
    "def find_category(idea_str):\n",
    "    \"\"\"\n",
    "    find_category outputs the category of a given idea string.\n",
    "\n",
    "    :param idea_str: The string of the idea (ex: \"Create an operating system easier to use than Windows.\")\n",
    "    :return: A dictionary with the matching category name in the \"result\" key and a \"category_scores\" key with the raw scores.\n",
    "    \"\"\"\n",
    "    categories_list = [\"carsharing\", \"medical\", \"education\", \"agriculture\", \"software\"]\n",
    "\n",
    "    # Prepare variables that will be locally using in the function\n",
    "    categories_list_local = list(categories_list)\n",
    "    categories_list_local.append(idea_str)\n",
    "    num_categories = len(categories_list)\n",
    "\n",
    "    with tf.Session() as session:\n",
    "        session.run(tf.global_variables_initializer())\n",
    "        session.run(tf.tables_initializer())\n",
    "        \n",
    "        # Define input placeholder\n",
    "        similarity_input_placeholder = tf.placeholder(dtype=tf.string, shape=(None,))\n",
    "        \n",
    "        # Get the embeddings for the input strings\n",
    "        similarity_message_encodings = embedding(similarity_input_placeholder)\n",
    "        \n",
    "        # Run the session to get embeddings\n",
    "        message_embeddings_ = session.run(similarity_message_encodings, feed_dict={similarity_input_placeholder: categories_list_local})\n",
    "\n",
    "    categories_dict = {}\n",
    "\n",
    "    # Loop over each category to check the relevance\n",
    "    for i, category in enumerate(categories_list):\n",
    "        score = np.inner(message_embeddings_[num_categories], message_embeddings_[i])\n",
    "        categories_dict[category] = score\n",
    "\n",
    "    # Find the highest value\n",
    "    best_category = max(categories_dict, key=categories_dict.get)\n",
    "\n",
    "    return {\"result\": best_category, \"category_scores\": categories_dict}\n",
    "\n",
    "# Example usage\n",
    "result = find_category(\"Create an operating system easier to use than Windows.\")\n",
    "print(result)\n"
   ]
  },
  {
   "cell_type": "code",
   "execution_count": null,
   "id": "a932ebbb-7329-4725-927c-241402c375d6",
   "metadata": {},
   "outputs": [],
   "source": []
  }
 ],
 "metadata": {
  "kernelspec": {
   "display_name": "Python 3 (ipykernel)",
   "language": "python",
   "name": "python3"
  },
  "language_info": {
   "codemirror_mode": {
    "name": "ipython",
    "version": 3
   },
   "file_extension": ".py",
   "mimetype": "text/x-python",
   "name": "python",
   "nbconvert_exporter": "python",
   "pygments_lexer": "ipython3",
   "version": "3.9.13"
  }
 },
 "nbformat": 4,
 "nbformat_minor": 5
}
